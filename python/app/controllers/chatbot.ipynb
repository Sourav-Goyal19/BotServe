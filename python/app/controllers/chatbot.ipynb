{
 "cells": [
  {
   "cell_type": "code",
   "execution_count": null,
   "id": "407de12c",
   "metadata": {},
   "outputs": [
    {
     "data": {
      "text/plain": [
       "True"
      ]
     },
     "execution_count": 5,
     "metadata": {},
     "output_type": "execute_result"
    }
   ],
   "source": [
    "import os\n",
    "from dotenv import load_dotenv\n",
    "from typing import TypedDict, Annotated\n",
    "\n",
    "load_dotenv()\n"
   ]
  },
  {
   "cell_type": "code",
   "execution_count": null,
   "id": "072432fe",
   "metadata": {},
   "outputs": [],
   "source": [
    "from langgraph.graph import StateGraph, START, END\n",
    "from langgraph.graph.message import add_messages\n",
    "\n",
    "from langchain_deepseek import ChatDeepSeek\n",
    "\n",
    "from langchain_google_genai import ChatGoogleGenerativeAI\n",
    "\n",
    "from langchain_groq import ChatGroq\n",
    "\n",
    "from langchain_core.prompts import ChatPromptTemplate\n",
    "from langgraph.checkpoint.memory import InMemorySaver\n",
    "\n",
    "from langchain_core.messages import HumanMessage, BaseMessage\n"
   ]
  },
  {
   "cell_type": "code",
   "execution_count": null,
   "id": "fd2b1cf0",
   "metadata": {},
   "outputs": [],
   "source": [
    "LLMS = {}\n",
    "\n",
    "LLMS[\"gemini\"] = ChatGoogleGenerativeAI(\n",
    "    api_key=os.getenv(\"GOOGLE_API_KEY\"), model=\"gemini-1.5-flash\"\n",
    ")\n",
    "\n",
    "LLMS[\"deepseek\"] = ChatDeepSeek(\n",
    "    api_key=os.getenv(\"OPENROUTER_API_KEY\"),\n",
    "    api_base=os.getenv(\"OPENROUTER_BASE_URL\"),\n",
    "    model=\"deepseek/deepseek-chat-v3-0324:free\",\n",
    ")\n",
    "\n",
    "LLMS[\"moonshotai\"] = ChatGroq(\n",
    "    api_key=os.getenv(\"GROQ_API_KEY\"), model=\"moonshotai/kimi-k2-instruct\"\n",
    ")\n"
   ]
  },
  {
   "cell_type": "code",
   "execution_count": null,
   "id": "a599b0e8",
   "metadata": {},
   "outputs": [],
   "source": [
    "llm: ChatDeepSeek = LLMS[\"deepseek\"]\n"
   ]
  },
  {
   "cell_type": "code",
   "execution_count": null,
   "id": "a40baa83",
   "metadata": {},
   "outputs": [],
   "source": [
    "class ChatState(TypedDict):\n",
    "    messages: Annotated[list[BaseMessage], add_messages]\n"
   ]
  },
  {
   "cell_type": "code",
   "execution_count": null,
   "id": "b895bea0",
   "metadata": {},
   "outputs": [],
   "source": [
    "def chat_node(state: ChatState):\n",
    "    messages = state[\"messages\"]\n",
    "    result = llm.invoke(messages)\n",
    "    state[\"messages\"] = [result.content]\n",
    "\n",
    "    return state\n"
   ]
  },
  {
   "cell_type": "code",
   "execution_count": null,
   "id": "22842c18",
   "metadata": {},
   "outputs": [],
   "source": [
    "graph = StateGraph(ChatState)\n",
    "\n",
    "graph.add_node(\"chat_node\", chat_node)\n",
    "\n",
    "graph.add_edge(START, \"chat_node\")\n",
    "graph.add_edge(\"chat_node\", END)\n",
    "\n",
    "checkpointer = InMemorySaver()\n",
    "\n",
    "chatbot = graph.compile(checkpointer=checkpointer)\n"
   ]
  },
  {
   "cell_type": "code",
   "execution_count": null,
   "id": "804e9ef1",
   "metadata": {},
   "outputs": [
    {
     "name": "stdout",
     "output_type": "stream",
     "text": [
      "User Message: Hey there, I'm sourav\n",
      "AI Message: Hey Sourav! 👋 What's up? How can I help you today? 😊\n",
      "User Message: what was my name?\n",
      "AI Message: Your name is **Sourav**! 😊 You mentioned it right at the beginning with *\"Hey there, I'm Sourav.\"*  \n",
      "\n",
      "Is there something specific you'd like help with, Sourav? 🚀\n",
      "User Message: What's the use case of python language\n",
      "AI Message: Python is a versatile, high-level programming language with a wide range of use cases across industries. Here are some of its most popular applications:  \n",
      "\n",
      "### **1. Web Development**  \n",
      "   - **Frameworks:** Django, Flask, FastAPI  \n",
      "   - Used to build scalable websites (e.g., Instagram, Pinterest).  \n",
      "\n",
      "### **2. Data Science & Analytics**  \n",
      "   - **Libraries:** Pandas, NumPy, SciPy  \n",
      "   - Helps clean, analyze, and visualize data for insights.  \n",
      "\n",
      "### **3. Machine Learning & AI**  \n",
      "   - **Libraries:** TensorFlow, PyTorch, Scikit-learn  \n",
      "   - Powers AI models (chatbots, autonomous systems, recommendation engines).  \n",
      "\n",
      "### **4. Automation & Scripting**  \n",
      "   - Automate repetitive tasks (e.g., file handling, web scraping with `BeautifulSoup`, `Selenium`).  \n",
      "\n",
      "### **5. Game Development**  \n",
      "   - **Libraries:** Pygame, Panda3D  \n",
      "   - Used for indie game development and prototyping.  \n",
      "\n",
      "### **6. Scientific & Numerical Computing**  \n",
      "   - Used in physics, biology, and engineering simulations.  \n",
      "\n",
      "### **7. Blockchain & Cryptocurrency**  \n",
      "   - **Libraries:** Web3.py, `pyethereum`  \n",
      "   - Smart contracts, transaction automation.  \n",
      "\n",
      "### **8. Cybersecurity**  \n",
      "   - Penetration testing (tools like `Metasploit`), ethical hacking.  \n",
      "\n",
      "### **9. Desktop Applications**  \n",
      "   - **Frameworks:** Tkinter, PyQt  \n",
      "   - Build cross-platform GUI apps.  \n",
      "\n",
      "### **10. Cloud & DevOps**  \n",
      "   - Automate cloud deployments (AWS, Azure) using `boto3`, `Ansible`.  \n",
      "\n",
      "### **Why Python?**  \n",
      "✅ Easy-to-read syntax  \n",
      "✅ Huge community & libraries  \n",
      "✅ Cross-platform compatibility  \n",
      "\n",
      "What interests you the most? I can help dive deeper! 🐍💻\n",
      "User Message: bye\n"
     ]
    }
   ],
   "source": [
    "thread_id = 1\n",
    "config = {\"configurable\": {\"thread_id\": thread_id}}\n",
    "while True:\n",
    "    user_msg = input(\">>>Enter your message: \")\n",
    "\n",
    "    print(\"User Message:\", user_msg)\n",
    "\n",
    "    if user_msg.strip().lower() in [\"quit\", \"exit\", \"bye\"]:\n",
    "        break\n",
    "\n",
    "    initial_state = {\"messages\": [HumanMessage(content=user_msg)]}\n",
    "\n",
    "    final_state = chatbot.invoke(initial_state, config=config)\n",
    "\n",
    "    print(\"AI Message:\", final_state[\"messages\"][-1].content)\n"
   ]
  },
  {
   "cell_type": "code",
   "execution_count": null,
   "id": "e61306ee",
   "metadata": {},
   "outputs": [],
   "source": []
  }
 ],
 "metadata": {
  "kernelspec": {
   "display_name": "Python 3",
   "language": "python",
   "name": "python3"
  },
  "language_info": {
   "codemirror_mode": {
    "name": "ipython",
    "version": 3
   },
   "file_extension": ".py",
   "mimetype": "text/x-python",
   "name": "python",
   "nbconvert_exporter": "python",
   "pygments_lexer": "ipython3",
   "version": "3.11.12"
  }
 },
 "nbformat": 4,
 "nbformat_minor": 5
}
